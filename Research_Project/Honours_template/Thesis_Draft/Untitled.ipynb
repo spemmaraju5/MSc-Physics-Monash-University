{
 "cells": [
  {
   "cell_type": "code",
   "execution_count": 15,
   "id": "30a07da3",
   "metadata": {},
   "outputs": [
    {
     "name": "stdout",
     "output_type": "stream",
     "text": [
      "Requirement already satisfied: feynman in c:\\users\\saich\\anaconda3\\lib\\site-packages (2.0.2)\n",
      "Requirement already satisfied: numpy>=1.6 in c:\\users\\saich\\anaconda3\\lib\\site-packages (from feynman) (1.21.5)\n",
      "Requirement already satisfied: matplotlib>=1.1 in c:\\users\\saich\\anaconda3\\lib\\site-packages (from feynman) (3.5.1)\n",
      "Requirement already satisfied: kiwisolver>=1.0.1 in c:\\users\\saich\\anaconda3\\lib\\site-packages (from matplotlib>=1.1->feynman) (1.3.2)\n",
      "Requirement already satisfied: fonttools>=4.22.0 in c:\\users\\saich\\anaconda3\\lib\\site-packages (from matplotlib>=1.1->feynman) (4.25.0)\n",
      "Requirement already satisfied: cycler>=0.10 in c:\\users\\saich\\anaconda3\\lib\\site-packages (from matplotlib>=1.1->feynman) (0.11.0)\n",
      "Requirement already satisfied: pillow>=6.2.0 in c:\\users\\saich\\anaconda3\\lib\\site-packages (from matplotlib>=1.1->feynman) (9.0.1)\n",
      "Requirement already satisfied: packaging>=20.0 in c:\\users\\saich\\anaconda3\\lib\\site-packages (from matplotlib>=1.1->feynman) (21.3)\n",
      "Requirement already satisfied: pyparsing>=2.2.1 in c:\\users\\saich\\anaconda3\\lib\\site-packages (from matplotlib>=1.1->feynman) (3.0.4)\n",
      "Requirement already satisfied: python-dateutil>=2.7 in c:\\users\\saich\\anaconda3\\lib\\site-packages (from matplotlib>=1.1->feynman) (2.8.2)\n",
      "Requirement already satisfied: six>=1.5 in c:\\users\\saich\\anaconda3\\lib\\site-packages (from python-dateutil>=2.7->matplotlib>=1.1->feynman) (1.16.0)\n"
     ]
    },
    {
     "data": {
      "image/png": "[encoded data removed]",
      "text/plain": [
       "<Figure size 432x432 with 1 Axes>"
      ]
     },
     "metadata": {},
     "output_type": "display_data"
    }
   ],
   "source": [
    "!pip install feynman\n",
    "import matplotlib.pyplot as plt\n",
    "from feynman import Diagram\n",
    "\n",
    "# If no Axes is given, a new one is initialized.\n",
    "diagram = Diagram()\n",
    "\n",
    "# Create four vertices.\n",
    "v1 = diagram.vertex(xy=(.1,.5), marker='')\n",
    "v2 = diagram.vertex(v1.xy, dx=.2)\n",
    "v3 = diagram.vertex(v2.xy, dx=.4)\n",
    "v4 = diagram.vertex(v3.xy, dx=.2, marker='')\n",
    "\n",
    "v5 = diagram.vertex(xy=(.1, .3), marker = '')\n",
    "v6 = diagram.vertex(v5.xy, dx=.6)\n",
    "\n",
    "\n",
    "\n",
    "# Create four lines.\n",
    "# By default, 'simple' lines have arrows\n",
    "# and others flavours such as 'wiggly' or 'loopy' don't.\n",
    "l12 = diagram.line(v1, v2)\n",
    "l23 = diagram.line(v2, v3, arrow = False)\n",
    "l34 = diagram.line(v3, v4, arrow=True)\n",
    "w23 = diagram.line(v2, v3, style='wiggly elliptic')\n",
    "v8 = diagram.vertex(v7.xy)\n",
    "l56 = diagram.line(v5, v6, arrow = True)\n",
    "\n",
    "\n",
    "# Add labels.\n",
    "l12.text(\"$\\overline{b}$\")\n",
    "w23.text(\"$W^{\\pm}$\")\n",
    "l34.text(\"$\\overline{s}$\")\n",
    "l56.text(\"$d$\")\n",
    "\n",
    "diagram.plot()\n",
    "plt.show()"
   ]
  },
  {
   "cell_type": "code",
   "execution_count": null,
   "id": "aec455fb",
   "metadata": {},
   "outputs": [],
   "source": []
  },
  {
   "cell_type": "code",
   "execution_count": null,
   "id": "2e6ea418",
   "metadata": {},
   "outputs": [],
   "source": []
  }
 ],
 "metadata": {
  "kernelspec": {
   "display_name": "Python 3 (ipykernel)",
   "language": "python",
   "name": "python3"
  },
  "language_info": {
   "codemirror_mode": {
    "name": "ipython",
    "version": 3
   },
   "file_extension": ".py",
   "mimetype": "text/x-python",
   "name": "python",
   "nbconvert_exporter": "python",
   "pygments_lexer": "ipython3",
   "version": "3.9.12"
  }
 },
 "nbformat": 4,
 "nbformat_minor": 5
}
