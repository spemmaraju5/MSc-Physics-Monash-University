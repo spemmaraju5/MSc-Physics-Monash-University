{
 "cells": [
  {
   "cell_type": "code",
   "execution_count": null,
   "id": "da226e6b",
   "metadata": {},
   "outputs": [],
   "source": [
    "import GaudiConfUtils.ConfigurableGenerators as ConfigurableGenerators\n",
    "from PhysConf.Selections import SimpleSelection\n",
    "\n",
    "kstar_sel = SimpleSelection(\n",
    "    'Sel_kstar',\n",
    "    ConfigurableGenerators.CombineParticles, \n",
    "    [Kaons, Pions],\n",
    "    DecayDescriptor='[K* -> pi- K+]cc',\n",
    "\n",
    ")"
   ]
  }
 ],
 "metadata": {
  "kernelspec": {
   "display_name": "Python 3 (ipykernel)",
   "language": "python",
   "name": "python3"
  },
  "language_info": {
   "codemirror_mode": {
    "name": "ipython",
    "version": 3
   },
   "file_extension": ".py",
   "mimetype": "text/x-python",
   "name": "python",
   "nbconvert_exporter": "python",
   "pygments_lexer": "ipython3",
   "version": "3.9.12"
  }
 },
 "nbformat": 4,
 "nbformat_minor": 5
}
