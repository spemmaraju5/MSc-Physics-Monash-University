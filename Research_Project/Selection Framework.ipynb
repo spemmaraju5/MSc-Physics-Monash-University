{
 "cells": [
  {
   "cell_type": "code",
   "execution_count": 1,
   "id": "da226e6b",
   "metadata": {},
   "outputs": [
    {
     "ename": "ModuleNotFoundError",
     "evalue": "No module named 'GaudiConfUtils'",
     "output_type": "error",
     "traceback": [
      "\u001b[1;31m---------------------------------------------------------------------------\u001b[0m",
      "\u001b[1;31mModuleNotFoundError\u001b[0m                       Traceback (most recent call last)",
      "Input \u001b[1;32mIn [1]\u001b[0m, in \u001b[0;36m<cell line: 1>\u001b[1;34m()\u001b[0m\n\u001b[1;32m----> 1\u001b[0m \u001b[38;5;28;01mimport\u001b[39;00m \u001b[38;5;21;01mGaudiConfUtils\u001b[39;00m\u001b[38;5;21;01m.\u001b[39;00m\u001b[38;5;21;01mConfigurableGenerators\u001b[39;00m \u001b[38;5;28;01mas\u001b[39;00m \u001b[38;5;21;01mConfigurableGenerators\u001b[39;00m\n\u001b[0;32m      2\u001b[0m \u001b[38;5;28;01mfrom\u001b[39;00m \u001b[38;5;21;01mPhysConf\u001b[39;00m\u001b[38;5;21;01m.\u001b[39;00m\u001b[38;5;21;01mSelections\u001b[39;00m \u001b[38;5;28;01mimport\u001b[39;00m SimpleSelection\n\u001b[0;32m      4\u001b[0m kstar_sel \u001b[38;5;241m=\u001b[39m SimpleSelection(\n\u001b[0;32m      5\u001b[0m     \u001b[38;5;124m'\u001b[39m\u001b[38;5;124mSel_kstar\u001b[39m\u001b[38;5;124m'\u001b[39m,\n\u001b[0;32m      6\u001b[0m     ConfigurableGenerators\u001b[38;5;241m.\u001b[39mCombineParticles, \n\u001b[1;32m   (...)\u001b[0m\n\u001b[0;32m     11\u001b[0m     MotherCut\u001b[38;5;241m=\u001b[39mkstar_vertex\n\u001b[0;32m     12\u001b[0m )\n",
      "\u001b[1;31mModuleNotFoundError\u001b[0m: No module named 'GaudiConfUtils'"
     ]
    }
   ],
   "source": [
    "import GaudiConfUtils.ConfigurableGenerators as ConfigurableGenerators\n",
    "from PhysConf.Selections import SimpleSelection\n",
    "\n",
    "kstar_sel = SimpleSelection(\n",
    "    'Sel_kstar',\n",
    "    ConfigurableGenerators.CombineParticles, \n",
    "    [Kaons, Pions],\n",
    "    DecayDescriptor='[K* -> pi- K+]cc',\n",
    "    DaughtersCuts=kstar_decay_products,\n",
    "    CombinationCut=kstar_comb,\n",
    "    MotherCut=kstar_vertex\n",
    ")"
   ]
  },
  {
   "cell_type": "code",
   "execution_count": null,
   "id": "bea221e2",
   "metadata": {},
   "outputs": [],
   "source": []
  }
 ],
 "metadata": {
  "kernelspec": {
   "display_name": "Python 3 (ipykernel)",
   "language": "python",
   "name": "python3"
  },
  "language_info": {
   "codemirror_mode": {
    "name": "ipython",
    "version": 3
   },
   "file_extension": ".py",
   "mimetype": "text/x-python",
   "name": "python",
   "nbconvert_exporter": "python",
   "pygments_lexer": "ipython3",
   "version": "3.9.12"
  }
 },
 "nbformat": 4,
 "nbformat_minor": 5
}
