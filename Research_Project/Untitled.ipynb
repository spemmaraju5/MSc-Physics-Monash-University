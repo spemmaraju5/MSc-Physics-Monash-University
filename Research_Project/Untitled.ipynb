{
 "cells": [
  {
   "cell_type": "code",
   "execution_count": null,
   "id": "b39c1642",
   "metadata": {
    "scrolled": true
   },
   "outputs": [],
   "source": []
  },
  {
   "cell_type": "code",
   "execution_count": 13,
   "id": "469e21b5",
   "metadata": {},
   "outputs": [
    {
     "data": {
      "text/plain": [
       "5.225900524409978"
      ]
     },
     "execution_count": 13,
     "metadata": {},
     "output_type": "execute_result"
    }
   ],
   "source": [
    "((0.15/(4.33))*100)+((93/5279)*100)"
   ]
  },
  {
   "cell_type": "code",
   "execution_count": 14,
   "id": "87b730dc",
   "metadata": {},
   "outputs": [
    {
     "data": {
      "text/plain": [
       "4.286446158495019e-10"
      ]
     },
     "execution_count": 14,
     "metadata": {},
     "output_type": "execute_result"
    }
   ],
   "source": [
    "(5.225900524409978/100)*(8.202311043758287e-09)"
   ]
  },
  {
   "cell_type": "code",
   "execution_count": 16,
   "id": "332b3a7c",
   "metadata": {},
   "outputs": [
    {
     "data": {
      "text/plain": [
       "0.42864461584950186"
      ]
     },
     "execution_count": 16,
     "metadata": {},
     "output_type": "execute_result"
    }
   ],
   "source": [
    "8.202311043758287*(5.225900524409978/100)"
   ]
  },
  {
   "cell_type": "code",
   "execution_count": 17,
   "id": "56870feb",
   "metadata": {},
   "outputs": [
    {
     "data": {
      "text/plain": [
       "1.4371014492753624"
      ]
     },
     "execution_count": 17,
     "metadata": {},
     "output_type": "execute_result"
    }
   ],
   "source": [
    "0.2479/0.1725"
   ]
  }
 ],
 "metadata": {
  "kernelspec": {
   "display_name": "Python 3.10.4 64-bit",
   "language": "python",
   "name": "python3"
  },
  "language_info": {
   "codemirror_mode": {
    "name": "ipython",
    "version": 3
   },
   "file_extension": ".py",
   "mimetype": "text/x-python",
   "name": "python",
   "nbconvert_exporter": "python",
   "pygments_lexer": "ipython3",
   "version": "3.10.4"
  },
  "vscode": {
   "interpreter": {
    "hash": "fef42c53574945e788519e3fcad370e68d9e1842cb0342f09b1ce9ef5e2f6a97"
   }
  }
 },
 "nbformat": 4,
 "nbformat_minor": 5
}
