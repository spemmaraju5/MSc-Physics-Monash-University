{
 "cells": [
  {
   "cell_type": "code",
   "execution_count": 1,
   "id": "63aea039",
   "metadata": {},
   "outputs": [
    {
     "data": {
      "text/plain": [
       "0.7133333333333334"
      ]
     },
     "execution_count": 1,
     "metadata": {},
     "output_type": "execute_result"
    }
   ],
   "source": [
    "2.14/3"
   ]
  },
  {
   "cell_type": "code",
   "execution_count": 2,
   "id": "1ba6d120",
   "metadata": {},
   "outputs": [
    {
     "data": {
      "text/plain": [
       "3.566666666666667"
      ]
     },
     "execution_count": 2,
     "metadata": {},
     "output_type": "execute_result"
    }
   ],
   "source": [
    "(2.14/3)*5"
   ]
  },
  {
   "cell_type": "code",
   "execution_count": 3,
   "id": "eaeb7732",
   "metadata": {},
   "outputs": [
    {
     "data": {
      "text/plain": [
       "119.62616822429906"
      ]
     },
     "execution_count": 3,
     "metadata": {},
     "output_type": "execute_result"
    }
   ],
   "source": [
    "256/2.14"
   ]
  },
  {
   "cell_type": "code",
   "execution_count": 4,
   "id": "64772afb",
   "metadata": {},
   "outputs": [
    {
     "data": {
      "text/plain": [
       "426.6666666666667"
      ]
     },
     "execution_count": 4,
     "metadata": {},
     "output_type": "execute_result"
    }
   ],
   "source": [
    "3.566666666666667*119.62616822429906"
   ]
  },
  {
   "cell_type": "code",
   "execution_count": null,
   "id": "da226e6b",
   "metadata": {},
   "outputs": [],
   "source": []
  }
 ],
 "metadata": {
  "kernelspec": {
   "display_name": "Python 3 (ipykernel)",
   "language": "python",
   "name": "python3"
  },
  "language_info": {
   "codemirror_mode": {
    "name": "ipython",
    "version": 3
   },
   "file_extension": ".py",
   "mimetype": "text/x-python",
   "name": "python",
   "nbconvert_exporter": "python",
   "pygments_lexer": "ipython3",
   "version": "3.9.12"
  }
 },
 "nbformat": 4,
 "nbformat_minor": 5
}
