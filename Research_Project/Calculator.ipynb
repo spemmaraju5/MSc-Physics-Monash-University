{
 "cells": [
  {
   "cell_type": "code",
   "execution_count": 5,
   "id": "b39c1642",
   "metadata": {
    "scrolled": true
   },
   "outputs": [
    {
     "data": {
      "text/plain": [
       "1.4426974805834438e-08"
      ]
     },
     "execution_count": 5,
     "metadata": {},
     "output_type": "execute_result"
    }
   ],
   "source": [
    "(7.616e-5)/5279"
   ]
  },
  {
   "cell_type": "code",
   "execution_count": 1,
   "id": "469e21b5",
   "metadata": {},
   "outputs": [
    {
     "data": {
      "text/plain": [
       "3.731235106279678"
      ]
     },
     "execution_count": 1,
     "metadata": {},
     "output_type": "execute_result"
    }
   ],
   "source": [
    "((0.15/(7.616))*100)+((93/5279)*100)"
   ]
  },
  {
   "cell_type": "code",
   "execution_count": 2,
   "id": "87b730dc",
   "metadata": {},
   "outputs": [
    {
     "data": {
      "text/plain": [
       "3.060475091909643e-10"
      ]
     },
     "execution_count": 2,
     "metadata": {},
     "output_type": "execute_result"
    }
   ],
   "source": [
    "(3.731235106279678/100)*(8.202311043758287e-09)"
   ]
  },
  {
   "cell_type": "code",
   "execution_count": 3,
   "id": "332b3a7c",
   "metadata": {},
   "outputs": [
    {
     "data": {
      "text/plain": [
       "0.3060475091909643"
      ]
     },
     "execution_count": 3,
     "metadata": {},
     "output_type": "execute_result"
    }
   ],
   "source": [
    "8.202311043758287*(3.731235106279678/100)"
   ]
  },
  {
   "cell_type": "code",
   "execution_count": 4,
   "id": "56870feb",
   "metadata": {},
   "outputs": [
    {
     "data": {
      "text/plain": [
       "1.4371014492753624"
      ]
     },
     "execution_count": 4,
     "metadata": {},
     "output_type": "execute_result"
    }
   ],
   "source": [
    "0.2479/0.1725"
   ]
  }
 ],
 "metadata": {
  "kernelspec": {
   "display_name": "Python 3 (ipykernel)",
   "language": "python",
   "name": "python3"
  },
  "language_info": {
   "codemirror_mode": {
    "name": "ipython",
    "version": 3
   },
   "file_extension": ".py",
   "mimetype": "text/x-python",
   "name": "python",
   "nbconvert_exporter": "python",
   "pygments_lexer": "ipython3",
   "version": "3.9.12"
  },
  "vscode": {
   "interpreter": {
    "hash": "fef42c53574945e788519e3fcad370e68d9e1842cb0342f09b1ce9ef5e2f6a97"
   }
  }
 },
 "nbformat": 4,
 "nbformat_minor": 5
}
