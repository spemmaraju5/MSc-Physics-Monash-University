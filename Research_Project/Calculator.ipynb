{
 "cells": [
  {
   "cell_type": "code",
   "execution_count": 5,
   "id": "b39c1642",
   "metadata": {
    "scrolled": true
   },
   "outputs": [
    {
     "data": {
      "text/plain": [
       "1.4426974805834438e-08"
      ]
     },
     "execution_count": 5,
     "metadata": {},
     "output_type": "execute_result"
    }
   ],
   "source": [
    "(7.616e-5)/5279"
   ]
  },
  {
   "cell_type": "code",
   "execution_count": 5,
   "id": "cbfa35db",
   "metadata": {},
   "outputs": [
    {
     "data": {
      "text/plain": [
       "1391039999999.9998"
      ]
     },
     "execution_count": 5,
     "metadata": {},
     "output_type": "execute_result"
    }
   ],
   "source": [
    "0.8*0.1725*0.7*(144*(10**11))"
   ]
  },
  {
   "cell_type": "code",
   "execution_count": 3,
   "id": "13184f3d",
   "metadata": {},
   "outputs": [
    {
     "data": {
      "text/plain": [
       "3.257704918032786e-08"
      ]
     },
     "execution_count": 3,
     "metadata": {},
     "output_type": "execute_result"
    }
   ],
   "source": [
    "1.3910399999999996e-05/427"
   ]
  },
  {
   "cell_type": "code",
   "execution_count": 2,
   "id": "87b730dc",
   "metadata": {},
   "outputs": [
    {
     "data": {
      "text/plain": [
       "3.060475091909643e-10"
      ]
     },
     "execution_count": 2,
     "metadata": {},
     "output_type": "execute_result"
    }
   ],
   "source": [
    "(3.731235106279678/100)*(8.202311043758287e-09)"
   ]
  },
  {
   "cell_type": "code",
   "execution_count": 3,
   "id": "332b3a7c",
   "metadata": {},
   "outputs": [
    {
     "data": {
      "text/plain": [
       "0.3060475091909643"
      ]
     },
     "execution_count": 3,
     "metadata": {},
     "output_type": "execute_result"
    }
   ],
   "source": [
    "8.202311043758287*(3.731235106279678/100)"
   ]
  },
  {
   "cell_type": "code",
   "execution_count": 4,
   "id": "56870feb",
   "metadata": {},
   "outputs": [
    {
     "data": {
      "text/plain": [
       "1.4371014492753624"
      ]
     },
     "execution_count": 4,
     "metadata": {},
     "output_type": "execute_result"
    }
   ],
   "source": [
    "0.2479/0.1725"
   ]
  },
  {
   "cell_type": "code",
   "execution_count": 6,
   "id": "5e5d2c48",
   "metadata": {},
   "outputs": [
    {
     "data": {
      "text/plain": [
       "3.0696457326892114e-10"
      ]
     },
     "execution_count": 6,
     "metadata": {},
     "output_type": "execute_result"
    }
   ],
   "source": [
    "427/1391039999999.9998"
   ]
  },
  {
   "cell_type": "code",
   "execution_count": null,
   "id": "3b03a0a9",
   "metadata": {},
   "outputs": [],
   "source": []
  }
 ],
 "metadata": {
  "kernelspec": {
   "display_name": "Python 3 (ipykernel)",
   "language": "python",
   "name": "python3"
  },
  "language_info": {
   "codemirror_mode": {
    "name": "ipython",
    "version": 3
   },
   "file_extension": ".py",
   "mimetype": "text/x-python",
   "name": "python",
   "nbconvert_exporter": "python",
   "pygments_lexer": "ipython3",
   "version": "3.9.12"
  },
  "vscode": {
   "interpreter": {
    "hash": "fef42c53574945e788519e3fcad370e68d9e1842cb0342f09b1ce9ef5e2f6a97"
   }
  }
 },
 "nbformat": 4,
 "nbformat_minor": 5
}
