{
 "cells": [
  {
   "cell_type": "code",
   "execution_count": 66,
   "id": "04268ce4",
   "metadata": {},
   "outputs": [],
   "source": [
    "import math\n",
    "import numpy as np\n",
    "import matplotlib.pyplot as plt\n",
    "import uproot as ur\n",
    "'''\n",
    "Calculates the energy and momentum of particles 1 and 2 in the decay process\n",
    "0 --> 1 + 2 in the rest frame of particle 0\n",
    "'''\n",
    "def rest_E_p(m0, m1, m2):\n",
    "    E1 = (m0**2+m1**2-m2**2)/(2*m0)\n",
    "    E2 = (m0**2+m2**2-m1**2)/(2*m0)\n",
    "    p1 = math.sqrt(E1**2-m1**2)\n",
    "    p2 = math.sqrt(E2**2-m2**2)\n",
    "    result_lst = []\n",
    "    result_lst.append(E1) \n",
    "    result_lst.append(E2)\n",
    "    result_lst.append(p1)\n",
    "    result_lst.append(p2)\n",
    "    \n",
    "    return result_lst\n",
    "\n",
    "\n",
    "def moving_E_p(p0, m0, m1, m2, theta0):\n",
    "    E1, E2, p1, p2 = rest_E_p(m0, m1, m2)[:4] # Quantities in B0 rest frame\n",
    "    E0 = math.sqrt(p0**2+m0**2)\n",
    "    gamma = E0/m0\n",
    "    v0 = p0/E0\n",
    "    p1mx = p1*math.sin(theta0)\n",
    "    p1mz = gamma*(p1*math.cos(theta0)+v0*E1)\n",
    "    \n",
    "    p2mx = -p1*math.sin(theta0)\n",
    "    p2mz = gamma*(-p1*math.cos(theta0)+v0*E2)\n",
    "    \n",
    "   \n",
    "    p1m = math.sqrt(p1mx**2+p1mz**2)\n",
    "    p2m = math.sqrt(p2mx**2+p2mz**2)\n",
    "    \n",
    "    return(p0, gamma, v0, p1m, p2m)"
   ]
  },
  {
   "cell_type": "code",
   "execution_count": 86,
   "id": "fc19da12",
   "metadata": {},
   "outputs": [
    {
     "data": {
      "text/plain": [
       "(2500,\n",
       " 473.5755964315187,\n",
       " 0.9999977705801755,\n",
       " 22.130161997418963,\n",
       " 2477.869838002581)"
      ]
     },
     "execution_count": 86,
     "metadata": {},
     "output_type": "execute_result"
    }
   ],
   "source": [
    "#rest_E_p(1.115683, 0.938, 0.1396)\n",
    "rest_E_p(5.279, 0.494, 0.548)\n",
    "\n",
    "moving_E_p(0.4, 1.115683, 0.938, 0.1396,math.pi)\n",
    "moving_E_p(2500, 5.279, 0.494, 0.548, math.pi)"
   ]
  },
  {
   "cell_type": "code",
   "execution_count": 84,
   "id": "e132dd75",
   "metadata": {},
   "outputs": [
    {
     "data": {
      "text/plain": [
       "[<matplotlib.lines.Line2D at 0x24084a22340>]"
      ]
     },
     "execution_count": 84,
     "metadata": {},
     "output_type": "execute_result"
    },
    {
     "data": {
      "image/png": "[encoded data removed]",
      "text/plain": [
       "<Figure size 432x288 with 1 Axes>"
      ]
     },
     "metadata": {
      "needs_background": "light"
     },
     "output_type": "display_data"
    }
   ],
   "source": [
    "datafile = ur.open(\"./DVntuple4-Copy1.root\")\n",
    "events = datafile['MCDecayTreeTuple/MCDecayTree;1']\n",
    "B0_pt = events[\"B0_PT\"]\n",
    "B0_pt = B0_pt.array(library=\"np\")\n",
    "y_vals = []\n",
    "\n",
    "for i in range(len(B0_pt)):\n",
    "    y_vals.append(moving_E_p(B0_pt[i], 5.279, 0.494, 0.548, (math.pi*3)/2)[4])\n",
    "    \n",
    "y_vals = np.array(y_vals)\n",
    "plt.figure()\n",
    "plt.plot(B0_pt, y_vals)"
   ]
  },
  {
   "cell_type": "code",
   "execution_count": null,
   "id": "cb26afe7",
   "metadata": {},
   "outputs": [],
   "source": []
  },
  {
   "cell_type": "code",
   "execution_count": null,
   "id": "fff34a31",
   "metadata": {},
   "outputs": [],
   "source": []
  }
 ],
 "metadata": {
  "kernelspec": {
   "display_name": "Python 3 (ipykernel)",
   "language": "python",
   "name": "python3"
  },
  "language_info": {
   "codemirror_mode": {
    "name": "ipython",
    "version": 3
   },
   "file_extension": ".py",
   "mimetype": "text/x-python",
   "name": "python",
   "nbconvert_exporter": "python",
   "pygments_lexer": "ipython3",
   "version": "3.9.12"
  }
 },
 "nbformat": 4,
 "nbformat_minor": 5
}
